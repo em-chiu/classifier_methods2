{
 "cells": [
  {
   "cell_type": "code",
   "execution_count": 1,
   "id": "4abfbf4a",
   "metadata": {},
   "outputs": [
    {
     "name": "stderr",
     "output_type": "stream",
     "text": [
      "[nltk_data] Downloading package stopwords to\n",
      "[nltk_data]     /Users/emilychiu/nltk_data...\n",
      "[nltk_data]   Package stopwords is already up-to-date!\n",
      "[nltk_data] Downloading package punkt to /Users/emilychiu/nltk_data...\n",
      "[nltk_data]   Package punkt is already up-to-date!\n"
     ]
    }
   ],
   "source": [
    "# import pandas for data handling\n",
    "import pandas as pd\n",
    "import nltk\n",
    "from nltk.corpus import stopwords\n",
    "nltk.download('stopwords')\n",
    "nltk.download('punkt')\n",
    "stopwords = stopwords.words('english')\n",
    "from nltk import word_tokenize\n",
    "from nltk.corpus import wordnet\n",
    "import numpy as np\n",
    "\n",
    "# Libraries for strings\n",
    "import string\n",
    "# Regular Expression Library\n",
    "import re\n",
    "\n",
    "# Import text vectorizers\n",
    "from sklearn.feature_extraction.text import TfidfVectorizer\n",
    "\n",
    "# Import classifiers\n",
    "from sklearn.svm import SVC, LinearSVC\n",
    "from sklearn.linear_model import LogisticRegression\n",
    "from sklearn.naive_bayes import MultinomialNB\n",
    "from sklearn.ensemble import RandomForestClassifier\n",
    "from sklearn.tree import DecisionTreeClassifier\n",
    "from sklearn import neighbors\n",
    "\n",
    "# Import ML helper function\n",
    "from sklearn.model_selection import train_test_split\n",
    "from sklearn.model_selection import cross_val_score\n",
    "\n",
    "# Import metrics to evaluate model\n",
    "from sklearn import metrics\n",
    "from sklearn.metrics import classification_report\n",
    "from sklearn.metrics import accuracy_score, f1_score\n",
    "from sklearn.metrics import plot_confusion_matrix\n",
    "from sklearn.metrics import confusion_matrix\n",
    "\n",
    "# library for plotting\n",
    "import matplotlib.pyplot as plt\n",
    "import seaborn as sns"
   ]
  },
  {
   "cell_type": "code",
   "execution_count": 2,
   "id": "fb56ccee",
   "metadata": {},
   "outputs": [
    {
     "name": "stdout",
     "output_type": "stream",
     "text": [
      "shape (86460, 3)\n"
     ]
    }
   ],
   "source": [
    "# import data, loading data into dataframe # extract data\n",
    "df = pd.read_csv('dem-vs-rep-tweets.csv') #chunksize, then save to df\n",
    "print(\"shape\", df.shape)  # print shape to see how data formated\n",
    "# (86460, 3), tuple representing the dimensionality (rows/columns) of dataframe"
   ]
  },
  {
   "cell_type": "code",
   "execution_count": 3,
   "id": "cb5e8439",
   "metadata": {},
   "outputs": [
    {
     "name": "stdout",
     "output_type": "stream",
     "text": [
      "head       Party         Handle                                              Tweet\n",
      "0  Democrat  RepDarrenSoto  Today, Senate Dems vote to #SaveTheInternet. P...\n",
      "1  Democrat  RepDarrenSoto  RT @WinterHavenSun: Winter Haven resident / Al...\n",
      "2  Democrat  RepDarrenSoto  RT @NBCLatino: .@RepDarrenSoto noted that Hurr...\n",
      "3  Democrat  RepDarrenSoto  RT @NALCABPolicy: Meeting with @RepDarrenSoto ...\n",
      "4  Democrat  RepDarrenSoto  RT @Vegalteno: Hurricane season starts on June...\n"
     ]
    }
   ],
   "source": [
    "print(\"head\", df.head()) \n",
    "# shows beginning of file"
   ]
  },
  {
   "cell_type": "code",
   "execution_count": 4,
   "id": "0e1b3b05",
   "metadata": {},
   "outputs": [
    {
     "name": "stdout",
     "output_type": "stream",
     "text": [
      "nulls #: Party     0\n",
      "Handle    0\n",
      "Tweet     0\n",
      "dtype: int64\n"
     ]
    }
   ],
   "source": [
    "# check nulls and duplicates\n",
    "print(\"nulls #:\", df.isnull().sum())\n",
    "# Party     0\n",
    "# Handle    0\n",
    "# Tweet     0\n",
    "# dtype: int64"
   ]
  },
  {
   "cell_type": "code",
   "execution_count": 5,
   "id": "d88e20ac",
   "metadata": {},
   "outputs": [
    {
     "name": "stdout",
     "output_type": "stream",
     "text": [
      "duplicates #: 57\n"
     ]
    }
   ],
   "source": [
    "print(\"duplicates #:\", df.duplicated().sum())\n",
    "# found 57 duplicates"
   ]
  },
  {
   "cell_type": "code",
   "execution_count": 6,
   "id": "81408673",
   "metadata": {},
   "outputs": [
    {
     "name": "stdout",
     "output_type": "stream",
     "text": [
      "current # of duplicates: 0\n"
     ]
    }
   ],
   "source": [
    "# remove duplicates, transform/clean data\n",
    "df.drop_duplicates(inplace=True) # drop dupes & reassign to df\n",
    "print(\"current # of duplicates:\", df.duplicated().sum())"
   ]
  },
  {
   "cell_type": "code",
   "execution_count": 26,
   "id": "2e9c0adb",
   "metadata": {},
   "outputs": [
    {
     "name": "stdout",
     "output_type": "stream",
     "text": [
      "Republican    44362\n",
      "Democrat      42041\n",
      "Name: Party, dtype: int64\n"
     ]
    }
   ],
   "source": [
    "# finding class balance\n",
    "print(df.Party.value_counts())\n",
    "# Republican    44392\n",
    "# Democrat      42068\n",
    "\n",
    "# Republican    44362\n",
    "#Democrat      42041"
   ]
  },
  {
   "cell_type": "code",
   "execution_count": 27,
   "id": "da691f37",
   "metadata": {},
   "outputs": [],
   "source": [
    "# lowercase all words function\n",
    "def make_lower(a_string):\n",
    "    return a_string.lower()"
   ]
  },
  {
   "cell_type": "code",
   "execution_count": 28,
   "id": "3e3163bf",
   "metadata": {},
   "outputs": [],
   "source": [
    "# remove all punctuation function\n",
    "def remove_punctuation(a_string):    \n",
    "    a_string = re.sub(r'[^\\w\\s]','',a_string)\n",
    "    return a_string"
   ]
  },
  {
   "cell_type": "code",
   "execution_count": 29,
   "id": "a7da2e33",
   "metadata": {},
   "outputs": [],
   "source": [
    "# remove stopwords function\n",
    "def remove_stopwords(a_string):\n",
    "    # Break the sentence down into a list of words\n",
    "    words = word_tokenize(a_string)\n",
    "    # Make a list to append valid words into\n",
    "    valid_words = []\n",
    "    # Loop through all the words\n",
    "    for word in words:\n",
    "        # Check if word is not in stopwords\n",
    "        if word not in stopwords:\n",
    "            # If word not in stopwords, append to our valid_words\n",
    "            valid_words.append(word)\n",
    "    # Join the list of words together into a string\n",
    "    a_string = ' '.join(valid_words)\n",
    "    return a_string"
   ]
  },
  {
   "cell_type": "code",
   "execution_count": 30,
   "id": "e166626a",
   "metadata": {},
   "outputs": [],
   "source": [
    "# build text processing pipeline # transform/cleaning data\n",
    "def text_pipeline(input_string):\n",
    "    input_string = make_lower(input_string)\n",
    "    input_string = remove_punctuation(input_string)\n",
    "    #input_string = lem_with_pos_tag(input_string)\n",
    "    input_string = remove_stopwords(input_string)    \n",
    "    return input_string"
   ]
  },
  {
   "cell_type": "code",
   "execution_count": 31,
   "id": "251cc72a",
   "metadata": {},
   "outputs": [],
   "source": [
    "# create new column to store cleaned version of tweet\n",
    "df['message_clean'] = df['Tweet'].apply(text_pipeline)"
   ]
  },
  {
   "cell_type": "code",
   "execution_count": 32,
   "id": "f844a3b2",
   "metadata": {},
   "outputs": [
    {
     "name": "stdout",
     "output_type": "stream",
     "text": [
      "ORIGINAL TEXT\n",
      ": Today, Senate Dems vote to #SaveTheInternet. Proud to support similar #NetNeutrality legislation here in the House… https://t.co/n3tggDLU1L\n"
     ]
    }
   ],
   "source": [
    "print(\"ORIGINAL TEXT\\n:\", df['Tweet'][0])"
   ]
  },
  {
   "cell_type": "code",
   "execution_count": 33,
   "id": "9edf0b6f",
   "metadata": {},
   "outputs": [
    {
     "name": "stdout",
     "output_type": "stream",
     "text": [
      "CLEANED TEXT\n",
      ": today senate dems vote savetheinternet proud support similar netneutrality legislation house httpstcon3tggdlu1l\n"
     ]
    }
   ],
   "source": [
    "print(\"CLEANED TEXT\\n:\", df['message_clean'][0])"
   ]
  },
  {
   "cell_type": "code",
   "execution_count": 34,
   "id": "17ec236b",
   "metadata": {},
   "outputs": [],
   "source": [
    "# # define data\n",
    "X = df['message_clean'].values\n",
    "\n",
    "Y = df['Party'].values"
   ]
  },
  {
   "cell_type": "code",
   "execution_count": 35,
   "id": "8e85d9a3",
   "metadata": {},
   "outputs": [],
   "source": [
    "# # Initialize our vectorizer\n",
    "vectorizer = TfidfVectorizer(min_df=2)\n",
    "# requires that each feature occur at least twice in the training data"
   ]
  },
  {
   "cell_type": "code",
   "execution_count": 36,
   "id": "2306e0aa",
   "metadata": {},
   "outputs": [
    {
     "data": {
      "text/plain": [
       "TfidfVectorizer(min_df=2)"
      ]
     },
     "execution_count": 36,
     "metadata": {},
     "output_type": "execute_result"
    }
   ],
   "source": [
    "# #  makes vocab matrix\n",
    "vectorizer.fit(X)"
   ]
  },
  {
   "cell_type": "code",
   "execution_count": 37,
   "id": "6165736c",
   "metadata": {},
   "outputs": [],
   "source": [
    "# # transforms documents into vectors\n",
    "X = vectorizer.transform(X)"
   ]
  },
  {
   "cell_type": "code",
   "execution_count": 38,
   "id": "fc536ddf",
   "metadata": {},
   "outputs": [
    {
     "name": "stdout",
     "output_type": "stream",
     "text": [
      "(86403, 31830) <class 'scipy.sparse.csr.csr_matrix'>\n"
     ]
    }
   ],
   "source": [
    "print(X.shape, type(X))\n",
    "# #(86460, 132962) <class 'scipy.sparse.csr.csr_matrix'>\n",
    "#(86403, 31830) <class 'scipy.sparse.csr.csr_matrix'>"
   ]
  },
  {
   "cell_type": "code",
   "execution_count": 39,
   "id": "860bb854",
   "metadata": {},
   "outputs": [],
   "source": [
    "# function to test and evaluate models\n",
    "def build_and_eval_model(model, X, Y):\n",
    "    print(\"Running report for model:\", model)\n",
    "    \n",
    "    # # Split data into testing and training within function (not global variable)\n",
    "    X_train, X_test, Y_train, Y_test = train_test_split(\n",
    "     X, Y, test_size=0.2, random_state=42)\n",
    "    # local variables used within function\n",
    "    \n",
    "    # fit model\n",
    "    model.fit(X_train, Y_train)\n",
    "    \n",
    "    # predicting results based on testing data\n",
    "    Y_pred = model.predict(X_test)\n",
    "    # Make predicted probabilites of our testing data\n",
    "\n",
    "    # Get the evaluation metrics \n",
    "    print('Model accuracy score: {0:0.4f}'. format(accuracy_score(Y_test, Y_pred)))\n",
    "    # y_test are true class labels and y_pred are predicted class labels in test-set, don't use train data\n",
    "    \n",
    "    f1score = f1_score(Y_test, Y_pred, average='macro')\n",
    "    print('macro F-1 score : {}'.format(np.round(f1score,5)))\n",
    "    \n",
    "    # compare the train-set and test-set accuracy to check for overfitting \n",
    "    Y_pred_train = model.predict(X_train) \n",
    "    print('Training set accuracy score: {0:0.4f}'. format(accuracy_score(Y_train, Y_pred_train)))\n",
    "    print('Test set accuracy score: {:.4f}'.format(model.score(X_test, Y_test)))\n",
    "\n",
    "    # print classification report \n",
    "    print(metrics.classification_report(Y_test, Y_pred))\n",
    "        \n",
    "    # plot confusion matrix\n",
    "    fig, ax = plt.subplots(figsize=(13,13))\n",
    "    \n",
    "    metrics.plot_confusion_matrix(estimator=model, \n",
    "                                  X=X_test, \n",
    "                                  Y_true=Y_test, \n",
    "                                  ax=ax)\n",
    "    \n",
    "    cm = confusion_matrix(Y_test, Y_pred)\n",
    "    print('Confusion matrix\\n\\n', cm)\n",
    "    print('\\nTrue Positives(TP) = ', cm[0,0])\n",
    "    print('\\nTrue Negatives(TN) = ', cm[1,1])\n",
    "    print('\\nFalse Positives(FP) = ', cm[0,1])\n",
    "    print('\\nFalse Negatives(FN) = ', cm[1,0])\n",
    "    \n",
    "    \n",
    "    # print classification accuracy, same as test set score & model accuracy score\n",
    "    classification_accuracy = (cm[0,0] + cm[1,1]) / float(cm[0,0] + cm[1,1] + cm[0,1] + cm[1,0])\n",
    "    print('model classification accuracy : {0:0.4f}'.format(classification_accuracy))\n",
    "    \n",
    "    # print classification error\n",
    "    classification_error = (cm[0,1] + cm[1,0]) / float(cm[0,0] + cm[1,1] + cm[0,1] + cm[1,0])\n",
    "    print('model classification error : {0:0.4f}'.format(classification_error))\n",
    "\n",
    "    # return the fitted model\n",
    "    return model\n"
   ]
  },
  {
   "cell_type": "code",
   "execution_count": 40,
   "id": "9daa3b3c",
   "metadata": {},
   "outputs": [
    {
     "name": "stdout",
     "output_type": "stream",
     "text": [
      "Running report for model: MultinomialNB(alpha=0.05)\n",
      "Model accuracy score: 0.8111\n",
      "macro F-1 score : 0.81082\n",
      "Training set accuracy score: 0.8835\n",
      "Test set accuracy score: 0.8111\n",
      "              precision    recall  f1-score   support\n",
      "\n",
      "    Democrat       0.81      0.79      0.80      8407\n",
      "  Republican       0.81      0.83      0.82      8874\n",
      "\n",
      "    accuracy                           0.81     17281\n",
      "   macro avg       0.81      0.81      0.81     17281\n",
      "weighted avg       0.81      0.81      0.81     17281\n",
      "\n",
      "Confusion matrix\n",
      "\n",
      " [[6663 1744]\n",
      " [1520 7354]]\n",
      "\n",
      "True Positives(TP) =  6663\n",
      "\n",
      "True Negatives(TN) =  7354\n",
      "\n",
      "False Positives(FP) =  1744\n",
      "\n",
      "False Negatives(FN) =  1520\n",
      "model classification accuracy : 0.8111\n",
      "model classification error : 0.1889\n"
     ]
    },
    {
     "data": {
      "text/plain": [
       "MultinomialNB(alpha=0.05)"
      ]
     },
     "execution_count": 40,
     "metadata": {},
     "output_type": "execute_result"
    },
    {
     "data": {
      "image/png": "[encoded data removed]",
      "text/plain": [
       "<Figure size 936x936 with 2 Axes>"
      ]
     },
     "metadata": {
      "needs_background": "light"
     },
     "output_type": "display_data"
    }
   ],
   "source": [
    "# # Initalize model # load data (training classifier using cleaned data)\n",
    "mnb = MultinomialNB(alpha=.05)\n",
    "build_and_eval_model(mnb, X, Y)\n",
    "\n",
    "#Model Accuracy: 0.811180\n",
    "#Model Accuracy: 0.811122 (with min_df=2)"
   ]
  },
  {
   "cell_type": "code",
   "execution_count": 41,
   "id": "8edd6f89",
   "metadata": {},
   "outputs": [
    {
     "name": "stdout",
     "output_type": "stream",
     "text": [
      "Running report for model: LogisticRegression()\n"
     ]
    },
    {
     "name": "stderr",
     "output_type": "stream",
     "text": [
      "/opt/anaconda3/lib/python3.9/site-packages/sklearn/linear_model/_logistic.py:763: ConvergenceWarning: lbfgs failed to converge (status=1):\n",
      "STOP: TOTAL NO. of ITERATIONS REACHED LIMIT.\n",
      "\n",
      "Increase the number of iterations (max_iter) or scale the data as shown in:\n",
      "    https://scikit-learn.org/stable/modules/preprocessing.html\n",
      "Please also refer to the documentation for alternative solver options:\n",
      "    https://scikit-learn.org/stable/modules/linear_model.html#logistic-regression\n",
      "  n_iter_i = _check_optimize_result(\n"
     ]
    },
    {
     "name": "stdout",
     "output_type": "stream",
     "text": [
      "Model accuracy score: 0.7910\n",
      "macro F-1 score : 0.79083\n",
      "Training set accuracy score: 0.8569\n",
      "Test set accuracy score: 0.7910\n",
      "              precision    recall  f1-score   support\n",
      "\n",
      "    Democrat       0.79      0.78      0.78      8407\n",
      "  Republican       0.79      0.80      0.80      8874\n",
      "\n",
      "    accuracy                           0.79     17281\n",
      "   macro avg       0.79      0.79      0.79     17281\n",
      "weighted avg       0.79      0.79      0.79     17281\n",
      "\n",
      "Confusion matrix\n",
      "\n",
      " [[6561 1846]\n",
      " [1765 7109]]\n",
      "\n",
      "True Positives(TP) =  6561\n",
      "\n",
      "True Negatives(TN) =  7109\n",
      "\n",
      "False Positives(FP) =  1846\n",
      "\n",
      "False Negatives(FN) =  1765\n",
      "model classification accuracy : 0.7910\n",
      "model classification error : 0.2090\n"
     ]
    },
    {
     "data": {
      "text/plain": [
       "LogisticRegression()"
      ]
     },
     "execution_count": 41,
     "metadata": {},
     "output_type": "execute_result"
    },
    {
     "data": {
      "image/png": "[encoded data removed]",
      "text/plain": [
       "<Figure size 936x936 with 2 Axes>"
      ]
     },
     "metadata": {
      "needs_background": "light"
     },
     "output_type": "display_data"
    }
   ],
   "source": [
    "lr = LogisticRegression()\n",
    "build_and_eval_model(lr, X, Y)"
   ]
  },
  {
   "cell_type": "code",
   "execution_count": 42,
   "id": "ba55781f",
   "metadata": {},
   "outputs": [
    {
     "name": "stdout",
     "output_type": "stream",
     "text": [
      "Running report for model: RandomForestClassifier()\n",
      "Model accuracy score: 0.7489\n",
      "macro F-1 score : 0.74822\n",
      "Training set accuracy score: 0.9961\n",
      "Test set accuracy score: 0.7489\n",
      "              precision    recall  f1-score   support\n",
      "\n",
      "    Democrat       0.75      0.72      0.74      8407\n",
      "  Republican       0.74      0.78      0.76      8874\n",
      "\n",
      "    accuracy                           0.75     17281\n",
      "   macro avg       0.75      0.75      0.75     17281\n",
      "weighted avg       0.75      0.75      0.75     17281\n",
      "\n",
      "Confusion matrix\n",
      "\n",
      " [[6036 2371]\n",
      " [1969 6905]]\n",
      "\n",
      "True Positives(TP) =  6036\n",
      "\n",
      "True Negatives(TN) =  6905\n",
      "\n",
      "False Positives(FP) =  2371\n",
      "\n",
      "False Negatives(FN) =  1969\n",
      "model classification accuracy : 0.7489\n",
      "model classification error : 0.2511\n"
     ]
    },
    {
     "data": {
      "text/plain": [
       "RandomForestClassifier()"
      ]
     },
     "execution_count": 42,
     "metadata": {},
     "output_type": "execute_result"
    },
    {
     "data": {
      "image/png": "[encoded data removed]",
      "text/plain": [
       "<Figure size 936x936 with 2 Axes>"
      ]
     },
     "metadata": {
      "needs_background": "light"
     },
     "output_type": "display_data"
    }
   ],
   "source": [
    "rf = RandomForestClassifier()\n",
    "build_and_eval_model(rf, X, Y)"
   ]
  },
  {
   "cell_type": "code",
   "execution_count": 43,
   "id": "b48c14c5",
   "metadata": {},
   "outputs": [
    {
     "name": "stdout",
     "output_type": "stream",
     "text": [
      "Running report for model: DecisionTreeClassifier(random_state=0)\n",
      "Model accuracy score: 0.6865\n",
      "macro F-1 score : 0.68597\n",
      "Training set accuracy score: 0.9961\n",
      "Test set accuracy score: 0.6865\n",
      "              precision    recall  f1-score   support\n",
      "\n",
      "    Democrat       0.68      0.66      0.67      8407\n",
      "  Republican       0.69      0.71      0.70      8874\n",
      "\n",
      "    accuracy                           0.69     17281\n",
      "   macro avg       0.69      0.69      0.69     17281\n",
      "weighted avg       0.69      0.69      0.69     17281\n",
      "\n",
      "Confusion matrix\n",
      "\n",
      " [[5583 2824]\n",
      " [2594 6280]]\n",
      "\n",
      "True Positives(TP) =  5583\n",
      "\n",
      "True Negatives(TN) =  6280\n",
      "\n",
      "False Positives(FP) =  2824\n",
      "\n",
      "False Negatives(FN) =  2594\n",
      "model classification accuracy : 0.6865\n",
      "model classification error : 0.3135\n"
     ]
    },
    {
     "data": {
      "text/plain": [
       "DecisionTreeClassifier(random_state=0)"
      ]
     },
     "execution_count": 43,
     "metadata": {},
     "output_type": "execute_result"
    },
    {
     "data": {
      "image/png": "[encoded data removed]",
      "text/plain": [
       "<Figure size 936x936 with 2 Axes>"
      ]
     },
     "metadata": {
      "needs_background": "light"
     },
     "output_type": "display_data"
    }
   ],
   "source": [
    "dt = DecisionTreeClassifier(random_state=0)\n",
    "build_and_eval_model(dt, X, Y)"
   ]
  },
  {
   "cell_type": "code",
   "execution_count": 45,
   "id": "dd69233d",
   "metadata": {},
   "outputs": [
    {
     "ename": "NameError",
     "evalue": "name 'svm' is not defined",
     "output_type": "error",
     "traceback": [
      "\u001b[0;31m---------------------------------------------------------------------------\u001b[0m",
      "\u001b[0;31mNameError\u001b[0m                                 Traceback (most recent call last)",
      "\u001b[0;32m/var/folders/mc/1k6qg5js1x31mqzdq17v2yym0000gn/T/ipykernel_14254/3521610219.py\u001b[0m in \u001b[0;36m<module>\u001b[0;34m\u001b[0m\n\u001b[0;32m----> 1\u001b[0;31m \u001b[0msvc\u001b[0m \u001b[0;34m=\u001b[0m \u001b[0msvm\u001b[0m\u001b[0;34m.\u001b[0m\u001b[0mSVC\u001b[0m\u001b[0;34m(\u001b[0m\u001b[0;34m)\u001b[0m\u001b[0;34m\u001b[0m\u001b[0;34m\u001b[0m\u001b[0m\n\u001b[0m\u001b[1;32m      2\u001b[0m \u001b[0mbuild_and_eval_model\u001b[0m\u001b[0;34m(\u001b[0m\u001b[0msvc\u001b[0m\u001b[0;34m,\u001b[0m \u001b[0mX\u001b[0m\u001b[0;34m,\u001b[0m \u001b[0my\u001b[0m\u001b[0;34m)\u001b[0m\u001b[0;34m\u001b[0m\u001b[0;34m\u001b[0m\u001b[0m\n\u001b[1;32m      3\u001b[0m \u001b[0;31m# from sklearn.svm import SVC\u001b[0m\u001b[0;34m\u001b[0m\u001b[0;34m\u001b[0m\u001b[0m\n\u001b[1;32m      4\u001b[0m \u001b[0;31m# svc = SVC(kernel='linear')\u001b[0m\u001b[0;34m\u001b[0m\u001b[0;34m\u001b[0m\u001b[0m\n",
      "\u001b[0;31mNameError\u001b[0m: name 'svm' is not defined"
     ]
    }
   ],
   "source": [
    "svc = svm.SVC()\n",
    "build_and_eval_model(svc, X, Y)\n",
    "# from sklearn.svm import SVC\n",
    "# svc = SVC(kernel='linear')"
   ]
  },
  {
   "cell_type": "code",
   "execution_count": 46,
   "id": "0e3a469b",
   "metadata": {},
   "outputs": [
    {
     "name": "stdout",
     "output_type": "stream",
     "text": [
      "Running report for model: KNeighborsClassifier()\n",
      "Model accuracy score: 0.5662\n",
      "macro F-1 score : 0.56357\n",
      "Training set accuracy score: 0.7383\n",
      "Test set accuracy score: 0.5662\n",
      "              precision    recall  f1-score   support\n",
      "\n",
      "    Democrat       0.56      0.50      0.53      8407\n",
      "  Republican       0.57      0.63      0.60      8874\n",
      "\n",
      "    accuracy                           0.57     17281\n",
      "   macro avg       0.57      0.56      0.56     17281\n",
      "weighted avg       0.57      0.57      0.56     17281\n",
      "\n",
      "Confusion matrix\n",
      "\n",
      " [[4218 4189]\n",
      " [3307 5567]]\n",
      "\n",
      "True Positives(TP) =  4218\n",
      "\n",
      "True Negatives(TN) =  5567\n",
      "\n",
      "False Positives(FP) =  4189\n",
      "\n",
      "False Negatives(FN) =  3307\n",
      "model classification accuracy : 0.5662\n",
      "model classification error : 0.4338\n"
     ]
    },
    {
     "data": {
      "text/plain": [
       "KNeighborsClassifier()"
      ]
     },
     "execution_count": 46,
     "metadata": {},
     "output_type": "execute_result"
    },
    {
     "data": {
      "image/png": "[encoded data removed]",
      "text/plain": [
       "<Figure size 936x936 with 2 Axes>"
      ]
     },
     "metadata": {
      "needs_background": "light"
     },
     "output_type": "display_data"
    }
   ],
   "source": [
    "# supervised learning\n",
    "knn = neighbors.KNeighborsClassifier(n_neighbors=5)\n",
    "build_and_eval_model(knn, X, Y)"
   ]
  },
  {
   "cell_type": "code",
   "execution_count": null,
   "id": "818df610",
   "metadata": {},
   "outputs": [],
   "source": []
  }
 ],
 "metadata": {
  "kernelspec": {
   "display_name": "Python 3 (ipykernel)",
   "language": "python",
   "name": "python3"
  },
  "language_info": {
   "codemirror_mode": {
    "name": "ipython",
    "version": 3
   },
   "file_extension": ".py",
   "mimetype": "text/x-python",
   "name": "python",
   "nbconvert_exporter": "python",
   "pygments_lexer": "ipython3",
   "version": "3.9.7"
  }
 },
 "nbformat": 4,
 "nbformat_minor": 5
}
